{
 "cells": [
  {
   "cell_type": "markdown",
   "id": "7d644e11-1ef3-463d-bc18-c412f4922fb5",
   "metadata": {},
   "source": [
    "### The Question\n",
    "A small non-profit decided to conduct an A/B **test to choose between two different versions of its website’s landing page.** Users coming to the site were assigned at random in equal numbers to one of the two pages, and their responses were monitored. A total of 100 users were tested but, due to technical issues, the number of users exposed to each version was slightly different. Two KPIs were collected:\n",
    "\n",
    "●\t**conversions (if they donated or not to the non-profit)**\n",
    "\n",
    "●\t**the dollar value of transactions**\n",
    "\n",
    "Based on these results, your task is to **determine which version of the landing page is more effective.** Please calculate **descriptive statistics**, __conduct a t-test__, and conduct __a chi-square test__. Present your results. What recommendations would you make to the non-profit? In addition, please provide a brief paragraph that describes how you approached this, what software you used, etc. "
   ]
  },
  {
   "cell_type": "code",
   "execution_count": 133,
   "id": "b688e0a2-160e-443d-94b4-c278aa7f7aa5",
   "metadata": {},
   "outputs": [
    {
     "name": "stdout",
     "output_type": "stream",
     "text": [
      "   Unnamed: 0  Converted?[Yes=1, No=0]  Unnamed: 2\n",
      "0   version A                        0        0.00\n",
      "1   version A                        0        0.00\n",
      "2   version A                        0        0.00\n",
      "3   version A                        1        5.14\n",
      "4   version A                        0        0.00\n",
      "..        ...                      ...         ...\n",
      "95  version B                        1       29.23\n",
      "96  version B                        1       16.96\n",
      "97  version B                        0        0.00\n",
      "98  version B                        0        0.00\n",
      "99  version B                        0        0.00\n",
      "\n",
      "[100 rows x 3 columns]\n"
     ]
    }
   ],
   "source": [
    "#Import the required libraries\n",
    "import pandas as pd\n",
    "import numpy as np\n",
    "\n",
    "#Load dataset  AB into jupyter notebook, python\n",
    "with open(\"AB.csv\",\"r\") as AB:\n",
    "    AB = pd.read_csv(AB)\n",
    "print(AB)"
   ]
  },
  {
   "cell_type": "code",
   "execution_count": 135,
   "id": "61213c3f-d051-46fd-af43-d95f5e808e19",
   "metadata": {},
   "outputs": [
    {
     "name": "stdout",
     "output_type": "stream",
     "text": [
      "   Unnamed: 0  Converted?[Yes=1, No=0]  Unnamed: 2\n",
      "0   version A                        0        0.00\n",
      "1   version A                        0        0.00\n",
      "2   version A                        0        0.00\n",
      "3   version A                        1        5.14\n",
      "4   version A                        0        0.00\n",
      "..        ...                      ...         ...\n",
      "95  version B                        1       29.23\n",
      "96  version B                        1       16.96\n",
      "97  version B                        0        0.00\n",
      "98  version B                        0        0.00\n",
      "99  version B                        0        0.00\n",
      "\n",
      "[100 rows x 3 columns]\n"
     ]
    }
   ],
   "source": [
    "ABdf = pd.DataFrame(AB)\n",
    "print(ABdf)"
   ]
  },
  {
   "cell_type": "code",
   "execution_count": 137,
   "id": "0641c02d-c370-4ba7-b66b-d104bf021dce",
   "metadata": {},
   "outputs": [],
   "source": [
    "#Changing the column names of the dataste\n",
    "ABdf.columns=['Landing page','Donation Conversions','Transactions']"
   ]
  },
  {
   "cell_type": "code",
   "execution_count": 139,
   "id": "a7665af4-70b7-4643-9464-21692ef61d07",
   "metadata": {},
   "outputs": [
    {
     "data": {
      "text/html": [
       "<div>\n",
       "<style scoped>\n",
       "    .dataframe tbody tr th:only-of-type {\n",
       "        vertical-align: middle;\n",
       "    }\n",
       "\n",
       "    .dataframe tbody tr th {\n",
       "        vertical-align: top;\n",
       "    }\n",
       "\n",
       "    .dataframe thead th {\n",
       "        text-align: right;\n",
       "    }\n",
       "</style>\n",
       "<table border=\"1\" class=\"dataframe\">\n",
       "  <thead>\n",
       "    <tr style=\"text-align: right;\">\n",
       "      <th></th>\n",
       "      <th>Landing page</th>\n",
       "      <th>Donation Conversions</th>\n",
       "      <th>Transactions</th>\n",
       "    </tr>\n",
       "  </thead>\n",
       "  <tbody>\n",
       "    <tr>\n",
       "      <th>0</th>\n",
       "      <td>version A</td>\n",
       "      <td>0</td>\n",
       "      <td>0.00</td>\n",
       "    </tr>\n",
       "    <tr>\n",
       "      <th>1</th>\n",
       "      <td>version A</td>\n",
       "      <td>0</td>\n",
       "      <td>0.00</td>\n",
       "    </tr>\n",
       "    <tr>\n",
       "      <th>2</th>\n",
       "      <td>version A</td>\n",
       "      <td>0</td>\n",
       "      <td>0.00</td>\n",
       "    </tr>\n",
       "    <tr>\n",
       "      <th>3</th>\n",
       "      <td>version A</td>\n",
       "      <td>1</td>\n",
       "      <td>5.14</td>\n",
       "    </tr>\n",
       "    <tr>\n",
       "      <th>4</th>\n",
       "      <td>version A</td>\n",
       "      <td>0</td>\n",
       "      <td>0.00</td>\n",
       "    </tr>\n",
       "    <tr>\n",
       "      <th>...</th>\n",
       "      <td>...</td>\n",
       "      <td>...</td>\n",
       "      <td>...</td>\n",
       "    </tr>\n",
       "    <tr>\n",
       "      <th>95</th>\n",
       "      <td>version B</td>\n",
       "      <td>1</td>\n",
       "      <td>29.23</td>\n",
       "    </tr>\n",
       "    <tr>\n",
       "      <th>96</th>\n",
       "      <td>version B</td>\n",
       "      <td>1</td>\n",
       "      <td>16.96</td>\n",
       "    </tr>\n",
       "    <tr>\n",
       "      <th>97</th>\n",
       "      <td>version B</td>\n",
       "      <td>0</td>\n",
       "      <td>0.00</td>\n",
       "    </tr>\n",
       "    <tr>\n",
       "      <th>98</th>\n",
       "      <td>version B</td>\n",
       "      <td>0</td>\n",
       "      <td>0.00</td>\n",
       "    </tr>\n",
       "    <tr>\n",
       "      <th>99</th>\n",
       "      <td>version B</td>\n",
       "      <td>0</td>\n",
       "      <td>0.00</td>\n",
       "    </tr>\n",
       "  </tbody>\n",
       "</table>\n",
       "<p>100 rows × 3 columns</p>\n",
       "</div>"
      ],
      "text/plain": [
       "   Landing page  Donation Conversions  Transactions\n",
       "0     version A                     0          0.00\n",
       "1     version A                     0          0.00\n",
       "2     version A                     0          0.00\n",
       "3     version A                     1          5.14\n",
       "4     version A                     0          0.00\n",
       "..          ...                   ...           ...\n",
       "95    version B                     1         29.23\n",
       "96    version B                     1         16.96\n",
       "97    version B                     0          0.00\n",
       "98    version B                     0          0.00\n",
       "99    version B                     0          0.00\n",
       "\n",
       "[100 rows x 3 columns]"
      ]
     },
     "execution_count": 139,
     "metadata": {},
     "output_type": "execute_result"
    }
   ],
   "source": [
    "ABdf"
   ]
  },
  {
   "cell_type": "code",
   "execution_count": 141,
   "id": "623e7202-2569-4a82-ab31-11c33d94e0e8",
   "metadata": {},
   "outputs": [
    {
     "name": "stdout",
     "output_type": "stream",
     "text": [
      "Landing page             object\n",
      "Donation Conversions      int64\n",
      "Transactions            float64\n",
      "dtype: object\n"
     ]
    }
   ],
   "source": [
    "print(ABdf.dtypes)"
   ]
  },
  {
   "cell_type": "code",
   "execution_count": 143,
   "id": "608c6722-279a-4302-b45f-435ded9b882b",
   "metadata": {},
   "outputs": [
    {
     "name": "stdout",
     "output_type": "stream",
     "text": [
      "Landing page            category\n",
      "Donation Conversions    category\n",
      "Transactions             float64\n",
      "dtype: object\n"
     ]
    }
   ],
   "source": [
    "ABdf[\"Landing page\"] = ABdf[\"Landing page\"].astype(\"category\")\n",
    "ABdf[\"Donation Conversions\"] = ABdf[\"Donation Conversions\"].astype(\"category\")\n",
    "ABdf['Transactions'] = pd.to_numeric(ABdf[\"Transactions\"])\n",
    "print(ABdf.dtypes)"
   ]
  },
  {
   "cell_type": "code",
   "execution_count": 145,
   "id": "ede37283-be83-4845-8b67-55722c61da28",
   "metadata": {},
   "outputs": [
    {
     "name": "stdout",
     "output_type": "stream",
     "text": [
      "<class 'pandas.core.frame.DataFrame'>\n",
      "RangeIndex: 100 entries, 0 to 99\n",
      "Data columns (total 3 columns):\n",
      " #   Column                Non-Null Count  Dtype   \n",
      "---  ------                --------------  -----   \n",
      " 0   Landing page          100 non-null    category\n",
      " 1   Donation Conversions  100 non-null    category\n",
      " 2   Transactions          100 non-null    float64 \n",
      "dtypes: category(2), float64(1)\n",
      "memory usage: 1.3 KB\n",
      "None\n",
      "ABdf.describe()\n",
      "Landing page            0\n",
      "Donation Conversions    0\n",
      "Transactions            0\n",
      "dtype: int64\n"
     ]
    }
   ],
   "source": [
    "#Check basic information about data\n",
    "#Check datatypes amd missing values\n",
    "print(ABdf.info())\n",
    "\n",
    "#check summary statistics\n",
    "print(\"ABdf.describe()\")\n",
    "\n",
    "#Check for missing values\n",
    "print(ABdf.isnull().sum())"
   ]
  },
  {
   "cell_type": "markdown",
   "id": "e696ed4f-8cb7-4a25-bf64-efe12dab79a3",
   "metadata": {},
   "source": [
    "# Data Cleaning"
   ]
  },
  {
   "cell_type": "code",
   "execution_count": 148,
   "id": "0add4fd7-8a53-4891-bdab-ba21c4a2ad7d",
   "metadata": {},
   "outputs": [
    {
     "data": {
      "text/plain": [
       "Landing page            0\n",
       "Donation Conversions    0\n",
       "Transactions            0\n",
       "dtype: int64"
      ]
     },
     "execution_count": 148,
     "metadata": {},
     "output_type": "execute_result"
    }
   ],
   "source": [
    "#Check for missing values\n",
    "ABdf.isnull().sum()"
   ]
  },
  {
   "cell_type": "code",
   "execution_count": 150,
   "id": "b6d77aa7-ee1f-4326-ae66-10158ac0e1b3",
   "metadata": {},
   "outputs": [
    {
     "data": {
      "text/html": [
       "<div>\n",
       "<style scoped>\n",
       "    .dataframe tbody tr th:only-of-type {\n",
       "        vertical-align: middle;\n",
       "    }\n",
       "\n",
       "    .dataframe tbody tr th {\n",
       "        vertical-align: top;\n",
       "    }\n",
       "\n",
       "    .dataframe thead th {\n",
       "        text-align: right;\n",
       "    }\n",
       "</style>\n",
       "<table border=\"1\" class=\"dataframe\">\n",
       "  <thead>\n",
       "    <tr style=\"text-align: right;\">\n",
       "      <th></th>\n",
       "      <th>Transactions</th>\n",
       "    </tr>\n",
       "  </thead>\n",
       "  <tbody>\n",
       "    <tr>\n",
       "      <th>count</th>\n",
       "      <td>100.000000</td>\n",
       "    </tr>\n",
       "    <tr>\n",
       "      <th>mean</th>\n",
       "      <td>8.072700</td>\n",
       "    </tr>\n",
       "    <tr>\n",
       "      <th>std</th>\n",
       "      <td>16.854619</td>\n",
       "    </tr>\n",
       "    <tr>\n",
       "      <th>min</th>\n",
       "      <td>0.000000</td>\n",
       "    </tr>\n",
       "    <tr>\n",
       "      <th>25%</th>\n",
       "      <td>0.000000</td>\n",
       "    </tr>\n",
       "    <tr>\n",
       "      <th>50%</th>\n",
       "      <td>0.000000</td>\n",
       "    </tr>\n",
       "    <tr>\n",
       "      <th>75%</th>\n",
       "      <td>1.352500</td>\n",
       "    </tr>\n",
       "    <tr>\n",
       "      <th>max</th>\n",
       "      <td>82.900000</td>\n",
       "    </tr>\n",
       "  </tbody>\n",
       "</table>\n",
       "</div>"
      ],
      "text/plain": [
       "       Transactions\n",
       "count    100.000000\n",
       "mean       8.072700\n",
       "std       16.854619\n",
       "min        0.000000\n",
       "25%        0.000000\n",
       "50%        0.000000\n",
       "75%        1.352500\n",
       "max       82.900000"
      ]
     },
     "execution_count": 150,
     "metadata": {},
     "output_type": "execute_result"
    }
   ],
   "source": [
    "#Ensure missing values were replaced correctly\n",
    "ABdf.describe()"
   ]
  },
  {
   "cell_type": "markdown",
   "id": "cf434a6d-a60b-4ebe-aa65-7a8a30bfbc05",
   "metadata": {},
   "source": [
    "# Descriptive Statistics"
   ]
  },
  {
   "cell_type": "code",
   "execution_count": 153,
   "id": "a9678a4c-7bc0-42f5-965e-afac44a8d75c",
   "metadata": {},
   "outputs": [
    {
     "name": "stdout",
     "output_type": "stream",
     "text": [
      "             Transactions                                                   \n",
      "                    count       mean        std  min  25%  50%    75%    max\n",
      "Landing page                                                                \n",
      "version A            55.0   5.889273  14.224016  0.0  0.0  0.0   0.00  54.31\n",
      "version B            45.0  10.741333  19.432660  0.0  0.0  0.0  16.96  82.90\n"
     ]
    }
   ],
   "source": [
    "#Group by landing page version\n",
    "summary_stats = ABdf.groupby(\"Landing page\", observed = True)[[\"Donation Conversions\",\"Transactions\"]].describe()\n",
    "print(summary_stats)"
   ]
  },
  {
   "cell_type": "markdown",
   "id": "ce5d8aac-6062-49ae-b393-91095cb4b93d",
   "metadata": {},
   "source": [
    "### Diagnositic tests to be done before the chi square tests"
   ]
  },
  {
   "cell_type": "code",
   "execution_count": 156,
   "id": "5ea76d91-8812-4118-86e3-991f08679227",
   "metadata": {},
   "outputs": [],
   "source": [
    "from scipy.stats import chi2_contingency\n",
    "#Create a contingency table\n",
    "contingency_table = pd.crosstab(ABdf[\"Landing page\"], ABdf[\"Donation Conversions\"])"
   ]
  },
  {
   "cell_type": "code",
   "execution_count": 158,
   "id": "81536042-a044-46e2-bac5-60dff1f54691",
   "metadata": {},
   "outputs": [
    {
     "name": "stdout",
     "output_type": "stream",
     "text": [
      "Expected Frequencies:\n",
      " [[40.7 14.3]\n",
      " [33.3 11.7]]\n"
     ]
    }
   ],
   "source": [
    "#Performing a chi squared test\n",
    "chi2_stat, p_value, dof, expected_freq = chi2_contingency(contingency_table)\n",
    "\n",
    "#Print expected frequencies(the expected frequencies is above 5 so it is okay and n further tests are needed)\n",
    "print(\"Expected Frequencies:\\n\", expected_freq)"
   ]
  },
  {
   "cell_type": "code",
   "execution_count": 160,
   "id": "383728e3-4c32-4e53-a2a9-eabf92170f3d",
   "metadata": {},
   "outputs": [
    {
     "name": "stdout",
     "output_type": "stream",
     "text": [
      "Chi-square Statistic:0.6804006804006802, p-value:0.4094487854224592\n",
      "Chi-square Statistic: 0.68040\n",
      "p-value: 0.4094\n",
      "Degrees of Freedom: 1\n",
      "Expected Frequencies Table:\n",
      "[[40.7 14.3]\n",
      " [33.3 11.7]]\n"
     ]
    }
   ],
   "source": [
    "#performing a chi square test\n",
    "chi2_stat, p_value, dof, expected =chi2_contingency(contingency_table)\n",
    "print(f\"Chi-square Statistic:{chi2_stat}, p-value:{p_value}\")\n",
    "print(f\"Chi-square Statistic: {chi2_stat:.5f}\")\n",
    "print(f\"p-value: {p_value:.4f}\")\n",
    "print(f\"Degrees of Freedom: {dof}\")\n",
    "print(\"Expected Frequencies Table:\")\n",
    "print(expected)"
   ]
  },
  {
   "cell_type": "markdown",
   "id": "4aee7146-d960-470f-8b60-ecf789b1329a",
   "metadata": {},
   "source": [
    "#Interpretation of the Chi-square results\n",
    "        Version A: 40.7 donations, 14.3 no donations\n",
    "        Version B: 33.3 donations, 11.7 no donations\n",
    "\n",
    "Statistical Interpretation\n",
    "- Hypothesis Setup\n",
    "        Null Hypothesis (H0H0​): There is no significant difference between the conversion rates of the two landing pages. That is, the landing page version does not influence donation behavior.\n",
    "- Alternative Hypothesis (HAHA​): There is a significant difference in the conversion rates between the two landing pages.\n",
    "\n",
    "- Decision Rule\n",
    "        We typically use a significance level (αα) of 0.05.\n",
    "        If p-value ≤ 0.05, we reject H0H0​ and conclude that there is a significant difference.\n",
    "- If p-value > 0.05, we fail to reject H0H0​, meaning there is no strong evidence of a difference.\n",
    "\n",
    "- Conclusion\n",
    "        The p-value (0.4094) is greater than 0.05, meaning the result is not statistically significant.\n",
    "- This suggests no strong evidence that one landing page performs significantly better than the other in terms of conversion rates.\n",
    "- The observed frequencies are close to the expected values, reinforcing the idea that any differences are likely due to chance.\n",
    "\n",
    "- Recommendation for the Non-Profit\n",
    "\n",
    "- Since there is no significant difference, the non-profit can choose either landing page based on other factors such as design preference, user experience, or ease of implementation.\n",
    "- If a larger sample size is available, rerunning the test with more data might provide a clearer picture.\n",
    "- Other factors, such as user demographics or marketing strategy, may also influence conversions and should be considered in further analysis.\n"
   ]
  },
  {
   "cell_type": "markdown",
   "id": "8798ab85-ae43-4442-8425-7b8a04a9ec13",
   "metadata": {},
   "source": [
    "## Remove the non zeros before perfoming any tests on numerics"
   ]
  },
  {
   "cell_type": "code",
   "execution_count": 162,
   "id": "df0c20e1-9a6d-4ca0-a4b3-8927375f670a",
   "metadata": {},
   "outputs": [
    {
     "name": "stdout",
     "output_type": "stream",
     "text": [
      "   Landing page Donation Conversions  Transactions\n",
      "3     version A                    1          5.14\n",
      "7     version A                    1          4.64\n",
      "14    version A                    1         45.43\n",
      "17    version A                    1         33.50\n",
      "18    version A                    1         31.41\n",
      "25    version A                    1         36.60\n",
      "29    version A                    1         54.31\n",
      "30    version A                    1         21.85\n",
      "32    version A                    1         44.80\n",
      "33    version A                    1         42.80\n",
      "46    version A                    1          1.00\n",
      "54    version A                    1          2.43\n",
      "55    version B                    1         28.01\n",
      "69    version B                    1         42.77\n",
      "70    version B                    1          2.41\n",
      "74    version B                    1         12.75\n",
      "75    version B                    1         20.87\n",
      "78    version B                    1         38.68\n",
      "81    version B                    1         47.29\n",
      "82    version B                    1         51.10\n",
      "83    version B                    1         82.90\n",
      "85    version B                    1         39.92\n",
      "93    version B                    1         44.04\n",
      "94    version B                    1         26.43\n",
      "95    version B                    1         29.23\n",
      "96    version B                    1         16.96\n"
     ]
    }
   ],
   "source": [
    "# Remove rows where 'Transactions' column has a value of 0\n",
    "cleaned_ABdf = ABdf[ABdf[\"Transactions\"] !=0]\n",
    "print(cleaned_ABdf)"
   ]
  },
  {
   "cell_type": "code",
   "execution_count": 164,
   "id": "a7c4cf89-ca4c-43e1-bdb5-694a21ebb49b",
   "metadata": {},
   "outputs": [
    {
     "data": {
      "text/plain": [
       "Landing page            0\n",
       "Donation Conversions    0\n",
       "Transactions            0\n",
       "dtype: int64"
      ]
     },
     "execution_count": 164,
     "metadata": {},
     "output_type": "execute_result"
    }
   ],
   "source": [
    "#check that all the columns are non zero\n",
    "\n",
    "#check if any column still contains zero values\n",
    "(cleaned_ABdf == 0).sum()"
   ]
  },
  {
   "cell_type": "code",
   "execution_count": 166,
   "id": "ee93738e-baff-4d3f-89b5-8f06e67399fd",
   "metadata": {},
   "outputs": [
    {
     "data": {
      "text/html": [
       "<div>\n",
       "<style scoped>\n",
       "    .dataframe tbody tr th:only-of-type {\n",
       "        vertical-align: middle;\n",
       "    }\n",
       "\n",
       "    .dataframe tbody tr th {\n",
       "        vertical-align: top;\n",
       "    }\n",
       "\n",
       "    .dataframe thead th {\n",
       "        text-align: right;\n",
       "    }\n",
       "</style>\n",
       "<table border=\"1\" class=\"dataframe\">\n",
       "  <thead>\n",
       "    <tr style=\"text-align: right;\">\n",
       "      <th></th>\n",
       "      <th>Landing page</th>\n",
       "      <th>Donation Conversions</th>\n",
       "      <th>Transactions</th>\n",
       "    </tr>\n",
       "  </thead>\n",
       "  <tbody>\n",
       "  </tbody>\n",
       "</table>\n",
       "</div>"
      ],
      "text/plain": [
       "Empty DataFrame\n",
       "Columns: [Landing page, Donation Conversions, Transactions]\n",
       "Index: []"
      ]
     },
     "execution_count": 166,
     "metadata": {},
     "output_type": "execute_result"
    }
   ],
   "source": [
    "#check if there are any rows with zero values in any column\n",
    "cleaned_ABdf[(cleaned_ABdf == 0).any(axis=1)]"
   ]
  },
  {
   "cell_type": "markdown",
   "id": "1a91a1b8-3720-4bd4-89bc-d495f9b2d702",
   "metadata": {},
   "source": [
    "### Convert Data to appropriate forms"
   ]
  },
  {
   "cell_type": "code",
   "execution_count": 169,
   "id": "108af416-e10a-4d76-82f1-6e6b44552290",
   "metadata": {},
   "outputs": [
    {
     "data": {
      "text/html": [
       "<div>\n",
       "<style scoped>\n",
       "    .dataframe tbody tr th:only-of-type {\n",
       "        vertical-align: middle;\n",
       "    }\n",
       "\n",
       "    .dataframe tbody tr th {\n",
       "        vertical-align: top;\n",
       "    }\n",
       "\n",
       "    .dataframe thead th {\n",
       "        text-align: right;\n",
       "    }\n",
       "</style>\n",
       "<table border=\"1\" class=\"dataframe\">\n",
       "  <thead>\n",
       "    <tr style=\"text-align: right;\">\n",
       "      <th></th>\n",
       "      <th>Transactions</th>\n",
       "    </tr>\n",
       "  </thead>\n",
       "  <tbody>\n",
       "    <tr>\n",
       "      <th>count</th>\n",
       "      <td>26.000000</td>\n",
       "    </tr>\n",
       "    <tr>\n",
       "      <th>mean</th>\n",
       "      <td>31.048846</td>\n",
       "    </tr>\n",
       "    <tr>\n",
       "      <th>std</th>\n",
       "      <td>19.571191</td>\n",
       "    </tr>\n",
       "    <tr>\n",
       "      <th>min</th>\n",
       "      <td>1.000000</td>\n",
       "    </tr>\n",
       "    <tr>\n",
       "      <th>25%</th>\n",
       "      <td>17.937500</td>\n",
       "    </tr>\n",
       "    <tr>\n",
       "      <th>50%</th>\n",
       "      <td>32.455000</td>\n",
       "    </tr>\n",
       "    <tr>\n",
       "      <th>75%</th>\n",
       "      <td>43.730000</td>\n",
       "    </tr>\n",
       "    <tr>\n",
       "      <th>max</th>\n",
       "      <td>82.900000</td>\n",
       "    </tr>\n",
       "  </tbody>\n",
       "</table>\n",
       "</div>"
      ],
      "text/plain": [
       "       Transactions\n",
       "count     26.000000\n",
       "mean      31.048846\n",
       "std       19.571191\n",
       "min        1.000000\n",
       "25%       17.937500\n",
       "50%       32.455000\n",
       "75%       43.730000\n",
       "max       82.900000"
      ]
     },
     "execution_count": 169,
     "metadata": {},
     "output_type": "execute_result"
    }
   ],
   "source": [
    "#Double-check summary statistics\n",
    "cleaned_ABdf.describe()"
   ]
  },
  {
   "cell_type": "code",
   "execution_count": 171,
   "id": "43fca686-2b98-45db-8aaa-655d86999e62",
   "metadata": {},
   "outputs": [
    {
     "name": "stdout",
     "output_type": "stream",
     "text": [
      "<class 'pandas.core.frame.DataFrame'>\n",
      "Index: 26 entries, 3 to 96\n",
      "Data columns (total 3 columns):\n",
      " #   Column                Non-Null Count  Dtype   \n",
      "---  ------                --------------  -----   \n",
      " 0   Landing page          26 non-null     category\n",
      " 1   Donation Conversions  26 non-null     category\n",
      " 2   Transactions          26 non-null     float64 \n",
      "dtypes: category(2), float64(1)\n",
      "memory usage: 716.0 bytes\n",
      "None\n",
      "\n",
      "Missing values per column:\n",
      " Landing page            0\n",
      "Donation Conversions    0\n",
      "Transactions            0\n",
      "dtype: int64\n",
      "\n",
      "Summary statistics:\n",
      "        Transactions\n",
      "count     26.000000\n",
      "mean      31.048846\n",
      "std       19.571191\n",
      "min        1.000000\n",
      "25%       17.937500\n",
      "50%       32.455000\n",
      "75%       43.730000\n",
      "max       82.900000\n",
      "\n",
      "Duplicate rows: 0\n"
     ]
    },
    {
     "data": {
      "image/png": "[encoded data removed]",
      "text/plain": [
       "<Figure size 640x480 with 1 Axes>"
      ]
     },
     "metadata": {},
     "output_type": "display_data"
    }
   ],
   "source": [
    "#Perform some diagnostic tests\n",
    "\n",
    "import pandas as pd\n",
    "import numpy as np\n",
    "import seaborn as sns\n",
    "import matplotlib.pyplot as plt\n",
    "\n",
    "#Check basic information\n",
    "print(cleaned_ABdf.info())\n",
    "\n",
    "#Check for missing values \n",
    "print(\"\\nMissing values per column:\\n\", cleaned_ABdf.isnull().sum())\n",
    "\n",
    "#Check summary statistics\n",
    "print(\"\\nSummary statistics:\\n\", cleaned_ABdf.describe() )\n",
    "\n",
    "#Check for duplicate values\n",
    "print(\"\\nDuplicate rows:\", cleaned_ABdf.duplicated().sum())\n",
    "\n",
    "#Visualization of the distribution of transactions\n",
    "sns.histplot(cleaned_ABdf[\"Transactions\"], kde=True)\n",
    "plt.title(\"Distribution of Dollar value of Transactions\")\n",
    "plt.show()"
   ]
  },
  {
   "cell_type": "code",
   "execution_count": 173,
   "id": "006bd5e2-ae4d-47a2-a1c2-7a454c30c07e",
   "metadata": {},
   "outputs": [
    {
     "name": "stdout",
     "output_type": "stream",
     "text": [
      "['version A', 'version B']\n",
      "Categories (2, object): ['version A', 'version B']\n"
     ]
    }
   ],
   "source": [
    "#Print out unique values in Landing page\n",
    "print(cleaned_ABdf[\"Landing page\"].unique())"
   ]
  },
  {
   "cell_type": "code",
   "execution_count": 226,
   "id": "092aa5a1-74e7-432f-bad1-1add3daf9efd",
   "metadata": {},
   "outputs": [
    {
     "name": "stdout",
     "output_type": "stream",
     "text": [
      "0.3231537620379084\n",
      "0.47744922945515667\n"
     ]
    }
   ],
   "source": [
    "print(cleaned_ABdf['Transactions'].skew())  # Check skewness\n",
    "print(cleaned_ABdf['Transactions'].kurtosis())  # Check kurtosis"
   ]
  },
  {
   "cell_type": "markdown",
   "id": "ef6c8656-98ec-4d40-8aaf-0066b7183b00",
   "metadata": {},
   "source": [
    "### computing descriptive statistics (like count, mean, standard deviation, min, max, etc.) for the \"Transactions\" column within each landing page group."
   ]
  },
  {
   "cell_type": "code",
   "execution_count": 110,
   "id": "81de4103-5c39-4bfc-82de-1eab784c661c",
   "metadata": {},
   "outputs": [
    {
     "name": "stdout",
     "output_type": "stream",
     "text": [
      "              count       mean        std   min     25%     50%      75%  \\\n",
      "Landing page                                                               \n",
      "version A      12.0  26.992500  19.282293  1.00   5.015  32.455  43.3000   \n",
      "version B      14.0  34.525714  19.844056  2.41  22.260  33.955  43.7225   \n",
      "\n",
      "                max  \n",
      "Landing page         \n",
      "version A     54.31  \n",
      "version B     82.90  \n"
     ]
    }
   ],
   "source": [
    "desc_stats = cleaned_ABdf.groupby(\"Landing page\", observed =True)[\"Transactions\"].describe()\n",
    "print(desc_stats)"
   ]
  },
  {
   "cell_type": "code",
   "execution_count": 177,
   "id": "5f6ba88f-9575-4814-bd4d-e7aaacb7ce7d",
   "metadata": {},
   "outputs": [
    {
     "name": "stdout",
     "output_type": "stream",
     "text": [
      "   Landing page Donation Conversions  Transactions\n",
      "3     version A                    1          5.14\n",
      "7     version A                    1          4.64\n",
      "14    version A                    1         45.43\n",
      "17    version A                    1         33.50\n",
      "18    version A                    1         31.41\n",
      "25    version A                    1         36.60\n",
      "29    version A                    1         54.31\n",
      "30    version A                    1         21.85\n",
      "32    version A                    1         44.80\n",
      "33    version A                    1         42.80\n",
      "46    version A                    1          1.00\n",
      "54    version A                    1          2.43\n",
      "55    version B                    1         28.01\n",
      "69    version B                    1         42.77\n",
      "70    version B                    1          2.41\n",
      "74    version B                    1         12.75\n",
      "75    version B                    1         20.87\n",
      "78    version B                    1         38.68\n",
      "81    version B                    1         47.29\n",
      "82    version B                    1         51.10\n",
      "83    version B                    1         82.90\n",
      "85    version B                    1         39.92\n",
      "93    version B                    1         44.04\n",
      "94    version B                    1         26.43\n",
      "95    version B                    1         29.23\n",
      "96    version B                    1         16.96\n"
     ]
    }
   ],
   "source": [
    "#check dataset if it is okay\n",
    "print(cleaned_ABdf)"
   ]
  },
  {
   "cell_type": "code",
   "execution_count": 120,
   "id": "68019d8e-12e9-4704-aa85-6cfaae7499a1",
   "metadata": {},
   "outputs": [],
   "source": [
    "#Filter out any zeros if there is any that is existing\n",
    "#ABdf_nzero = ABdf[ABdf[\"Transactions\"] > 0]\n",
    "#print(ABdf_nzero)"
   ]
  },
  {
   "cell_type": "markdown",
   "id": "8db01ced-5584-4481-92cc-90bb3fe4bdb8",
   "metadata": {},
   "source": [
    "### Separate into Group A and Group B"
   ]
  },
  {
   "cell_type": "code",
   "execution_count": 125,
   "id": "f53ace03-4bac-4859-8ec6-0ffe24b67181",
   "metadata": {},
   "outputs": [
    {
     "name": "stdout",
     "output_type": "stream",
     "text": [
      "['version A', 'version B']\n",
      "Categories (2, object): ['version A', 'version B']\n"
     ]
    }
   ],
   "source": [
    "print(cleaned_ABdf[\"Landing page\"].unique())"
   ]
  },
  {
   "cell_type": "code",
   "execution_count": 179,
   "id": "5eaf7182-8fd3-4a89-af4a-dc493302d5a7",
   "metadata": {},
   "outputs": [
    {
     "name": "stdout",
     "output_type": "stream",
     "text": [
      "Landing page            category\n",
      "Donation Conversions    category\n",
      "Transactions             float64\n",
      "dtype: object\n"
     ]
    }
   ],
   "source": [
    "print(cleaned_ABdf.dtypes)"
   ]
  },
  {
   "cell_type": "code",
   "execution_count": 184,
   "id": "f4805949-9828-4ff1-9f55-798776481983",
   "metadata": {},
   "outputs": [
    {
     "name": "stdout",
     "output_type": "stream",
     "text": [
      "['version A' 'version B']\n"
     ]
    }
   ],
   "source": [
    "print(cleaned_ABdf[\"Landing page\"].unique())"
   ]
  },
  {
   "cell_type": "code",
   "execution_count": 186,
   "id": "50301388-1549-498b-85b6-62445658fcb7",
   "metadata": {},
   "outputs": [
    {
     "name": "stdout",
     "output_type": "stream",
     "text": [
      "   Landing page Donation Conversions  Transactions\n",
      "3     version A                    1          5.14\n",
      "7     version A                    1          4.64\n",
      "14    version A                    1         45.43\n",
      "17    version A                    1         33.50\n",
      "18    version A                    1         31.41\n",
      "25    version A                    1         36.60\n",
      "29    version A                    1         54.31\n",
      "30    version A                    1         21.85\n",
      "32    version A                    1         44.80\n",
      "33    version A                    1         42.80\n",
      "46    version A                    1          1.00\n",
      "54    version A                    1          2.43\n",
      "   Landing page Donation Conversions  Transactions\n",
      "55    version B                    1         28.01\n",
      "69    version B                    1         42.77\n",
      "70    version B                    1          2.41\n",
      "74    version B                    1         12.75\n",
      "75    version B                    1         20.87\n",
      "78    version B                    1         38.68\n",
      "81    version B                    1         47.29\n",
      "82    version B                    1         51.10\n",
      "83    version B                    1         82.90\n",
      "85    version B                    1         39.92\n",
      "93    version B                    1         44.04\n",
      "94    version B                    1         26.43\n",
      "95    version B                    1         29.23\n",
      "96    version B                    1         16.96\n"
     ]
    }
   ],
   "source": [
    "#Group A(Landing page A)\n",
    "from scipy.stats import *\n",
    "cleaned_A = cleaned_ABdf[cleaned_ABdf['Landing page'] == 'version A']\n",
    "cleaned_B = cleaned_ABdf[cleaned_ABdf['Landing page'] == 'version B']\n",
    "print(cleaned_A)\n",
    "print(cleaned_B)"
   ]
  },
  {
   "cell_type": "code",
   "execution_count": 206,
   "id": "46f3229a-0c02-4292-b3a1-e1c641b40664",
   "metadata": {},
   "outputs": [
    {
     "data": {
      "text/html": [
       "<div>\n",
       "<style scoped>\n",
       "    .dataframe tbody tr th:only-of-type {\n",
       "        vertical-align: middle;\n",
       "    }\n",
       "\n",
       "    .dataframe tbody tr th {\n",
       "        vertical-align: top;\n",
       "    }\n",
       "\n",
       "    .dataframe thead th {\n",
       "        text-align: right;\n",
       "    }\n",
       "</style>\n",
       "<table border=\"1\" class=\"dataframe\">\n",
       "  <thead>\n",
       "    <tr style=\"text-align: right;\">\n",
       "      <th></th>\n",
       "      <th>Transactions</th>\n",
       "    </tr>\n",
       "  </thead>\n",
       "  <tbody>\n",
       "    <tr>\n",
       "      <th>count</th>\n",
       "      <td>12.000000</td>\n",
       "    </tr>\n",
       "    <tr>\n",
       "      <th>mean</th>\n",
       "      <td>26.992500</td>\n",
       "    </tr>\n",
       "    <tr>\n",
       "      <th>std</th>\n",
       "      <td>19.282293</td>\n",
       "    </tr>\n",
       "    <tr>\n",
       "      <th>min</th>\n",
       "      <td>1.000000</td>\n",
       "    </tr>\n",
       "    <tr>\n",
       "      <th>25%</th>\n",
       "      <td>5.015000</td>\n",
       "    </tr>\n",
       "    <tr>\n",
       "      <th>50%</th>\n",
       "      <td>32.455000</td>\n",
       "    </tr>\n",
       "    <tr>\n",
       "      <th>75%</th>\n",
       "      <td>43.300000</td>\n",
       "    </tr>\n",
       "    <tr>\n",
       "      <th>max</th>\n",
       "      <td>54.310000</td>\n",
       "    </tr>\n",
       "  </tbody>\n",
       "</table>\n",
       "</div>"
      ],
      "text/plain": [
       "       Transactions\n",
       "count     12.000000\n",
       "mean      26.992500\n",
       "std       19.282293\n",
       "min        1.000000\n",
       "25%        5.015000\n",
       "50%       32.455000\n",
       "75%       43.300000\n",
       "max       54.310000"
      ]
     },
     "execution_count": 206,
     "metadata": {},
     "output_type": "execute_result"
    }
   ],
   "source": [
    "cleaned_A.describe()"
   ]
  },
  {
   "cell_type": "code",
   "execution_count": 208,
   "id": "5ec96e90-99a8-4157-89a4-28b5695fa52a",
   "metadata": {},
   "outputs": [
    {
     "data": {
      "text/html": [
       "<div>\n",
       "<style scoped>\n",
       "    .dataframe tbody tr th:only-of-type {\n",
       "        vertical-align: middle;\n",
       "    }\n",
       "\n",
       "    .dataframe tbody tr th {\n",
       "        vertical-align: top;\n",
       "    }\n",
       "\n",
       "    .dataframe thead th {\n",
       "        text-align: right;\n",
       "    }\n",
       "</style>\n",
       "<table border=\"1\" class=\"dataframe\">\n",
       "  <thead>\n",
       "    <tr style=\"text-align: right;\">\n",
       "      <th></th>\n",
       "      <th>Transactions</th>\n",
       "    </tr>\n",
       "  </thead>\n",
       "  <tbody>\n",
       "    <tr>\n",
       "      <th>count</th>\n",
       "      <td>14.000000</td>\n",
       "    </tr>\n",
       "    <tr>\n",
       "      <th>mean</th>\n",
       "      <td>34.525714</td>\n",
       "    </tr>\n",
       "    <tr>\n",
       "      <th>std</th>\n",
       "      <td>19.844056</td>\n",
       "    </tr>\n",
       "    <tr>\n",
       "      <th>min</th>\n",
       "      <td>2.410000</td>\n",
       "    </tr>\n",
       "    <tr>\n",
       "      <th>25%</th>\n",
       "      <td>22.260000</td>\n",
       "    </tr>\n",
       "    <tr>\n",
       "      <th>50%</th>\n",
       "      <td>33.955000</td>\n",
       "    </tr>\n",
       "    <tr>\n",
       "      <th>75%</th>\n",
       "      <td>43.722500</td>\n",
       "    </tr>\n",
       "    <tr>\n",
       "      <th>max</th>\n",
       "      <td>82.900000</td>\n",
       "    </tr>\n",
       "  </tbody>\n",
       "</table>\n",
       "</div>"
      ],
      "text/plain": [
       "       Transactions\n",
       "count     14.000000\n",
       "mean      34.525714\n",
       "std       19.844056\n",
       "min        2.410000\n",
       "25%       22.260000\n",
       "50%       33.955000\n",
       "75%       43.722500\n",
       "max       82.900000"
      ]
     },
     "execution_count": 208,
     "metadata": {},
     "output_type": "execute_result"
    }
   ],
   "source": [
    "cleaned_B.describe()"
   ]
  },
  {
   "cell_type": "code",
   "execution_count": 192,
   "id": "ab95a52c-2d62-442f-9828-684dfb6a6e27",
   "metadata": {},
   "outputs": [
    {
     "name": "stdout",
     "output_type": "stream",
     "text": [
      "ShapiroResult(statistic=0.8894270585838713, pvalue=0.11585275233960995)\n",
      "ShapiroResult(statistic=0.9501136720233722, pvalue=0.562471373300744)\n"
     ]
    }
   ],
   "source": [
    "#Verify normality violations\n",
    "from scipy.stats import shapiro\n",
    "shapiro_A = shapiro(cleaned_A[\"Transactions\"])\n",
    "shapiro_B = shapiro(cleaned_B[\"Transactions\"])\n",
    "print(shapiro_A)\n",
    "print(shapiro_B)"
   ]
  },
  {
   "cell_type": "code",
   "execution_count": 222,
   "id": "cb33c914-b8f4-49b0-b6ab-7aef6d5314b0",
   "metadata": {},
   "outputs": [
    {
     "name": "stdout",
     "output_type": "stream",
     "text": [
      "Levene's Test Statistic: 0.0381, p-value:0.8469\n"
     ]
    }
   ],
   "source": [
    "from scipy import stats\n",
    "\n",
    "#Extract values for each group\n",
    "#Group_A_nzero = ABdf_nzero[ABdf_nzero[\"Landing page\"] == 'A']['Transactions']\n",
    "#Group_B_nzero = ABdf_nzero[ABdf_nzero[\"Landing page\"] == 'B']['Transactions']\n",
    "\n",
    "#Levene's test for equal variances\n",
    "levene_stat, levene_p = stats.levene(cleaned_A[\"Transactions\"], cleaned_B[\"Transactions\"])\n",
    "print(f\"Levene's Test Statistic: {levene_stat:.4f}, p-value:{levene_p:.4f}\")\n"
   ]
  },
  {
   "cell_type": "code",
   "execution_count": 2,
   "id": "c4aec8d6-fc19-4db7-911b-ebb3742e1183",
   "metadata": {},
   "outputs": [],
   "source": [
    "#Runs test for testing the independence assumption\n",
    "#from statsmodels.sandbox.stats.runs import runstest_1samp\n",
    "\n",
    "# Create a binary sequence (0 for Version A, 1 for Version B)\n",
    "#binary_sequence = (cleaned_ABdf[\"Landing page\"] == \"version B\").astype(int)\n",
    "\n",
    "# Perform Runs Test\n",
    "#z_stat, p_value = runstest_1samp(binary_sequence, correction=False)\n",
    "#print(f\"Runs Test Statistic: {z_stat:.4f}, p-value: {p_value:.4f}\")\n",
    "\n",
    "# Interpretation\n",
    "#if p_value < 0.05:\n",
    " #   print(\"Non-random pattern detected! Independence assumption might be violated.\")\n",
    "#else:\n",
    "#    print(\"Observations appear to be randomly distributed. Independence assumption holds.\")\n"
   ]
  },
  {
   "cell_type": "markdown",
   "id": "e2438084-e942-4f65-b9d6-dec616e9d480",
   "metadata": {},
   "source": [
    "###\n",
    "#### The test of normality is okay\n",
    "- Even though histogram portrays some level of right skewness, the dataset is fairly normally distributed as the results from the Shapiro-Wilk test shows, p- value of 0.12, for A and p-value =0.56 for B, which greater than the pvalue hence we fail to reject the hypothesis that dataset is normally distributed.\n",
    "#### Equality of variance\n",
    "- The levene's test for equality of variance also shows that the two groups have equal variance as the p  value is  0.8469 which is greater than the signifcance level of 0.05, hence we fail to reject the null hypothesis of equal variance at 5% level of significance.\n",
    "\n",
    "- This dataset is okay as per these two main assumptions hence we can proceed with t test statistic\n"
   ]
  },
  {
   "cell_type": "markdown",
   "id": "3387610f-f5a7-45bd-a7c1-d68ab1280415",
   "metadata": {},
   "source": [
    "### Performing an independent t test statistic"
   ]
  },
  {
   "cell_type": "code",
   "execution_count": 244,
   "id": "8c2489a8-8d6c-46a3-b9b5-db2bc5c3bd4b",
   "metadata": {},
   "outputs": [
    {
     "name": "stdout",
     "output_type": "stream",
     "text": [
      "Independent t-test Results (Equal Variance Assumed):\n",
      "  - t-statistic: -0.9776\n",
      "  - p-value: 0.3380\n",
      "  - Mean A: 26.99, Mean B: 34.53\n",
      "  - Std Dev A: 19.28, Std Dev B: 19.84\n",
      "  - Sample Size A: 12, Sample Size B: 14\n",
      "  - 95% Confidence Interval: (-23.44, 8.37)\n",
      "  - Effect Size (Cohen's d): -0.3846\n",
      "  - Statistical Power: 0.1555\n"
     ]
    }
   ],
   "source": [
    "import numpy as np\n",
    "import pandas as pd\n",
    "from scipy import stats\n",
    "from statsmodels.stats.power import TTestIndPower\n",
    "\n",
    "# Extract numeric column directly (since it's already numeric)\n",
    "cleaned_A_numeric = cleaned_A[\"Transactions\"].dropna()\n",
    "cleaned_B_numeric = cleaned_B[\"Transactions\"].dropna()\n",
    "\n",
    "# Compute summary statistics\n",
    "mean_A, mean_B = cleaned_A_numeric.mean(), cleaned_B_numeric.mean()\n",
    "std_A, std_B = cleaned_A_numeric.std(ddof=1), cleaned_B_numeric.std(ddof=1)\n",
    "n_A, n_B = len(cleaned_A_numeric), len(cleaned_B_numeric)\n",
    "\n",
    "# Perform independent t-test (Student's t-test, assuming equal variance)\n",
    "t_stat, p_value = stats.ttest_ind(cleaned_A_numeric, cleaned_B_numeric, equal_var=True)\n",
    "\n",
    "# Compute confidence interval\n",
    "confidence = 0.95\n",
    "df = n_A + n_B - 2  # Degrees of freedom for equal variance t-test\n",
    "pooled_std = np.sqrt(((n_A - 1) * std_A**2 + (n_B - 1) * std_B**2) / df)\n",
    "se = pooled_std * np.sqrt(1/n_A + 1/n_B)  # Standard error\n",
    "t_crit = stats.t.ppf((1 + confidence) / 2, df)  # Critical t-value\n",
    "margin_of_error = t_crit * se\n",
    "ci_lower, ci_upper = (mean_A - mean_B) - margin_of_error, (mean_A - mean_B) + margin_of_error\n",
    "\n",
    "# Compute effect size (Cohen's d)\n",
    "cohen_d = (mean_A - mean_B) / pooled_std\n",
    "\n",
    "# Compute statistical power\n",
    "analysis = TTestIndPower()\n",
    "power = analysis.solve_power(effect_size=cohen_d, nobs1=n_A, ratio=n_B/n_A, alpha=0.05)\n",
    "\n",
    "# Print results\n",
    "print(f\"Independent t-test Results (Equal Variance Assumed):\")\n",
    "print(f\"  - t-statistic: {t_stat:.4f}\")\n",
    "print(f\"  - p-value: {p_value:.4f}\")\n",
    "print(f\"  - Mean A: {mean_A:.2f}, Mean B: {mean_B:.2f}\")\n",
    "print(f\"  - Std Dev A: {std_A:.2f}, Std Dev B: {std_B:.2f}\")\n",
    "print(f\"  - Sample Size A: {n_A}, Sample Size B: {n_B}\")\n",
    "print(f\"  - 95% Confidence Interval: ({ci_lower:.2f}, {ci_upper:.2f})\")\n",
    "print(f\"  - Effect Size (Cohen's d): {cohen_d:.4f}\")\n",
    "print(f\"  - Statistical Power: {power:.4f}\")\n"
   ]
  },
  {
   "cell_type": "markdown",
   "id": "84f6bf0d-7472-433e-829e-e1f0281b21ce",
   "metadata": {},
   "source": [
    "#### Interpretation of the results\n",
    "since p-value in independent t test statistic is 0.3380, the null hypothesis of no significant difference in the mean number of transactions between the two versions of the landing page at 5% level of signficance.\n",
    "Also, the is 95% that this is true as the confidence interval is between (-23.44, 8.37)."
   ]
  },
  {
   "cell_type": "code",
   "execution_count": null,
   "id": "7f2316a5-95e1-4381-8d1f-105932f8dbb6",
   "metadata": {},
   "outputs": [],
   "source": [
    "#performing a paired t test statistic\n",
    "from scipy import stats\n",
    "#run a paired t-test\n",
    "t_stat. p_value = stats.ttest_rel(cleaned_A, cleaned_B)"
   ]
  },
  {
   "cell_type": "code",
   "execution_count": null,
   "id": "30206a73-b38c-4358-a896-ac61468d1052",
   "metadata": {},
   "outputs": [],
   "source": [
    "#performing an independent t-test (equal variance)\n",
    "#t_stat, p_value = stats.ttest_ind(cleaned_A, cleaned_B, equal_var=True)"
   ]
  },
  {
   "cell_type": "code",
   "execution_count": 229,
   "id": "6ee4b136-20c1-4fbf-a2b7-bb824183e74c",
   "metadata": {},
   "outputs": [],
   "source": [
    "#from scipy.stats import mannwhitneyu\n",
    "\n",
    "#u_stat, p_value = mannwhitneyu(cleaned_A[\"Transactions\"], cleaned_B[\"Transactions\"])\n",
    "#print(f\"Mann-Whitney U Test: U-statistic={u_stat}, p-value={p_value}\")"
   ]
  },
  {
   "cell_type": "code",
   "execution_count": 71,
   "id": "9dc2b95a-71e9-4dcf-a060-aab27108b052",
   "metadata": {},
   "outputs": [],
   "source": [
    "#ABdf[\"Landing page\"] = ABdf[\"Landing page\"].astype(\"category\")\n",
    "#ABdf[\"Transactions\"] = pd.to_numeric(ABdf[\"Transactions\"], errors = \"coerce\")\n",
    "#print(ABdf.dtypes) #verify data types"
   ]
  },
  {
   "cell_type": "code",
   "execution_count": 73,
   "id": "76f1981a-e80f-430b-901c-bd526ff55d26",
   "metadata": {},
   "outputs": [],
   "source": [
    "#ABdf['Transactions'] = pd.to_numeric(ABdf[\"Transactions\"])\n",
    "#check data types again\n",
    "#print(ABdf.dtypes)"
   ]
  },
  {
   "cell_type": "code",
   "execution_count": 75,
   "id": "24bc98db-d4fc-462e-afb8-4e918967cf96",
   "metadata": {},
   "outputs": [],
   "source": [
    "#print(ABdf)"
   ]
  },
  {
   "cell_type": "code",
   "execution_count": 79,
   "id": "7c521a78-d141-4d13-94f3-6759ab1f66b0",
   "metadata": {},
   "outputs": [],
   "source": [
    "#ABdf[\"Landing page\"] = ABdf[\"Landing page\"].astype(\"category\")\n",
    "#print(ABdf.dtypes)"
   ]
  },
  {
   "cell_type": "code",
   "execution_count": 81,
   "id": "425b92ae-6564-4042-b65f-13879911d288",
   "metadata": {},
   "outputs": [],
   "source": [
    "#print(ABdf)"
   ]
  },
  {
   "cell_type": "code",
   "execution_count": 180,
   "id": "01a940f5-d392-43ca-9803-cb3a15ead143",
   "metadata": {},
   "outputs": [],
   "source": [
    "#print(f\"Number of non-zero values in Group A: {len(Group_A_nzero)}\")"
   ]
  },
  {
   "cell_type": "markdown",
   "id": "0ed47e8d-b27b-4720-8468-3de4d1a43d0f",
   "metadata": {},
   "source": [
    "### change the donations conversions into categorical data"
   ]
  },
  {
   "cell_type": "code",
   "execution_count": 83,
   "id": "22b38cec-7d6d-4054-a746-b907e7890298",
   "metadata": {},
   "outputs": [],
   "source": [
    "#ABdf[\"Donation Conversions\"] = ABdf[\"Donation Conversions\"].astype(\"category\")\n",
    "#print(ABdf.dtypes)"
   ]
  },
  {
   "cell_type": "code",
   "execution_count": 85,
   "id": "3b68850e-0104-4464-9b9e-c83dd7bea151",
   "metadata": {},
   "outputs": [],
   "source": [
    "#print(ABdf)"
   ]
  },
  {
   "cell_type": "markdown",
   "id": "035cddaf-8ff6-414c-8471-7a0d7c25d3cd",
   "metadata": {},
   "source": [
    "# Let me do a chi square test"
   ]
  },
  {
   "cell_type": "code",
   "execution_count": 87,
   "id": "607474d4-e4a1-4aaf-865c-ee49751273b5",
   "metadata": {},
   "outputs": [],
   "source": [
    "#print(ABdf)"
   ]
  },
  {
   "cell_type": "code",
   "execution_count": 89,
   "id": "458b2b46-84fb-4cde-ac5f-66234301a444",
   "metadata": {},
   "outputs": [],
   "source": [
    "#print(ABdf[\"Landing page\"])"
   ]
  },
  {
   "cell_type": "code",
   "execution_count": 91,
   "id": "6dbf224c-0400-4d59-bd7b-07ab29bcd3a6",
   "metadata": {},
   "outputs": [],
   "source": [
    "#Let me do a chi square test\n",
    "\n",
    "#import pandas as pd\n",
    "#Create a contigency table\n",
    "#contigency_table = pd.crosstab(ABdf['Landing page'], ABdf['Donation Conversions'])\n",
    "#Display the ta\n",
    "#print(contigency_table)\n"
   ]
  },
  {
   "cell_type": "code",
   "execution_count": null,
   "id": "1f22fade-b055-4355-9e0b-ec8d9ac0ba46",
   "metadata": {},
   "outputs": [],
   "source": []
  },
  {
   "cell_type": "code",
   "execution_count": 121,
   "id": "db691c79-66a9-4663-94bc-0bbef6387084",
   "metadata": {},
   "outputs": [],
   "source": [
    "#Creating a new dataset with only non-zero transactions\n",
    "#ABdf_nzero = ABdf[ABdf[\"Transactions\"] !=0].copy()\n",
    "\n",
    "#Reset the index for clarity\n",
    "#ABdf_nzero.reset_index(drop=True, inplace=True)\n",
    "\n",
    "#Display the first few rows to verify\n",
    "#print(ABdf_nzero)"
   ]
  },
  {
   "cell_type": "code",
   "execution_count": 123,
   "id": "5d39eaf2-4d41-4f4b-af59-a4a5dfcb3da2",
   "metadata": {},
   "outputs": [],
   "source": [
    "#ABdf_nzero.to_csv(\"ABdf_nzero.csv\", index=False)"
   ]
  },
  {
   "cell_type": "code",
   "execution_count": 100,
   "id": "5a118683-5f8c-4297-86af-b32839a43192",
   "metadata": {},
   "outputs": [],
   "source": [
    "#import pandas as pd\n",
    "#import numpy as np\n",
    "#import seaborn as sns\n",
    "#import matplotlib.pyplot as plt\n",
    "\n",
    "#Check basic information\n",
    "#print(ABdf_nzero.info())\n",
    "\n",
    "#Check for missing values \n",
    "#print(\"\\nMissing values per column:\\n\", ABdf_nzero.isnull().sum())\n",
    "\n",
    "#Check summary statistics\n",
    "#print(\"\\nSummary statistics:\\n\", ABdf_nzero.describe() )\n",
    "\n",
    "#Check for duplicate values\n",
    "#print(\"\\nDuplicate rows:\", ABdf_nzero.duplicated().sum())\n",
    "\n",
    "#Visualization of the distribution of transactions\n",
    "#sns.histplot(ABdf_nzero[\"Transactions\"], kde=True)\n",
    "#plt.title(\"Distribution of Dollar value of Transactions\")\n",
    "#plt.show()"
   ]
  },
  {
   "cell_type": "code",
   "execution_count": 104,
   "id": "3e435a28-b542-401e-9f54-cfbc27338054",
   "metadata": {},
   "outputs": [],
   "source": [
    "#print(ABdf_nzero[\"Landing page\"].unique())"
   ]
  },
  {
   "cell_type": "code",
   "execution_count": 112,
   "id": "6bc77784-4e7f-46d4-9208-f211d1b9726d",
   "metadata": {},
   "outputs": [],
   "source": [
    "#desc_stats = ABdf_nzero.groupby(\"Landing page\")[\"Transactions\"].describe()\n",
    "#print(desc_stats)"
   ]
  },
  {
   "cell_type": "code",
   "execution_count": 114,
   "id": "e6d4d8a1-a9f4-4f16-b9cc-8377eaafa450",
   "metadata": {},
   "outputs": [],
   "source": [
    "#print(ABdf_nzero[\"Landing page\"].unique())\n"
   ]
  },
  {
   "cell_type": "code",
   "execution_count": 218,
   "id": "220478f2-b97e-4f4e-b8c6-18e570e1e8cf",
   "metadata": {},
   "outputs": [],
   "source": [
    "#from scipy.stats import shapiro\n",
    "#stat, p = shapiro(Group_A_nzero)\n",
    "#print(f\"Shapiro-Wilk Test: Statistic={stat}, p-value={p}\")"
   ]
  },
  {
   "cell_type": "code",
   "execution_count": 216,
   "id": "c0a17dd8-4a3e-4acf-8c71-3cfb5f0909ce",
   "metadata": {},
   "outputs": [
    {
     "name": "stdout",
     "output_type": "stream",
     "text": [
      "Number of non-zero values in Group A: 12\n"
     ]
    }
   ],
   "source": [
    "print(f\"Number of non-zero values in Group A: {len(cleaned_A)}\")"
   ]
  },
  {
   "cell_type": "code",
   "execution_count": null,
   "id": "226a6856-959b-4ebd-aa4f-af61c7623786",
   "metadata": {},
   "outputs": [],
   "source": []
  }
 ],
 "metadata": {
  "kernelspec": {
   "display_name": "Python [conda env:base] *",
   "language": "python",
   "name": "conda-base-py"
  },
  "language_info": {
   "codemirror_mode": {
    "name": "ipython",
    "version": 3
   },
   "file_extension": ".py",
   "mimetype": "text/x-python",
   "name": "python",
   "nbconvert_exporter": "python",
   "pygments_lexer": "ipython3",
   "version": "3.12.7"
  }
 },
 "nbformat": 4,
 "nbformat_minor": 5
}

{
 "cells": [
  {
   "cell_type": "code",
   "execution_count": 1,
   "id": "342f8009-b2f0-4c65-9283-b37c4ba81316",
   "metadata": {},
   "outputs": [
    {
     "name": "stdout",
     "output_type": "stream",
     "text": [
      "          A3  B1  C1  C2  C3   C4  C5  D1   G3  G4  Total children  \\\n",
      "0   Tanzania   1   1   1   1  1.0   1   3   17  23              40   \n",
      "1   Tanzania   1   1   1   1  1.0   1   3   15  19              34   \n",
      "2   Tanzania   2   1   1   1  NaN   1   3  200  19             219   \n",
      "3   Tanzania   1   1   1   1  1.0   1   3   10  11              21   \n",
      "4   Tanzania   1   1   1   1  1.0   1   2   24  23              47   \n",
      "5   Tanzania   1   1   1   1  1.0   1   3   13  10              23   \n",
      "6   Tanzania   1   1   1   1  1.0   1   3    2   3               5   \n",
      "7   Tanzania   1   1   1   1  1.0   0   3   22  18              40   \n",
      "8   Tanzania   1   1   1   1  1.0   1   3   13  10              23   \n",
      "9   Tanzania   1   1   1   1  1.0   1   3   13  10              23   \n",
      "10  Tanzania   1   1   1   1  1.0   1   3    5  10              15   \n",
      "11  Tanzania   1   1   1   1  1.0   1   3    3  13              16   \n",
      "12  Tanzania   1   1   1   1  1.0   0   3   11  15              26   \n",
      "13  Tanzania   1   1   1   1  0.0   1   3    3   2               5   \n",
      "14  Tanzania   1   1   1   1  0.0   1   3    7   7              14   \n",
      "15  Tanzania   1   1   1   1  1.0   1   3   13  10              23   \n",
      "16  Tanzania   1   1   1   1  1.0   1   3    6   6              12   \n",
      "17  Tanzania   1   1   1   1  1.0   1   3   13  17              30   \n",
      "18  Tanzania   1   1   1   1  1.0   0   3    6   9              15   \n",
      "19  Tanzania   1   1   1   1  1.0   0   3    7   8              15   \n",
      "20  Tanzania   1   1   1   1  1.0   1   3   13   9              22   \n",
      "21  Tanzania   1   1   1   1  1.0   1   3   17  15              32   \n",
      "22  Tanzania   1   1   1   1  NaN   1   3    5  14              19   \n",
      "23  Tanzania   1   1   1   1  1.0   1   3   16  20              36   \n",
      "24  Tanzania   1   1   1   1  1.0   1   3   10  20              30   \n",
      "25  Tanzania   1   1   1   1  NaN   1   3    5   4               9   \n",
      "26  Tanzania   1   1   1   1  1.0   1   3   10   3              13   \n",
      "27  Tanzania   1   1   1   1  1.0   1   3    4  11              15   \n",
      "28  Tanzania   1   0   1   1  NaN   1   3    5  12              17   \n",
      "29  Tanzania   1   1   1   1  1.0   1   2   12  18              30   \n",
      "30  Tanzania   1   1   1   1  1.0   1   3    0   0               0   \n",
      "31    Uganda   1   1   1   1  1.0   1   3    8   8              16   \n",
      "32    Uganda   1   1   1   1  NaN   1   3   15  17              32   \n",
      "33    Uganda   2   1   1   1  1.0   1   3   11  21              32   \n",
      "34    Uganda   1   1   0   1  1.0   1   3    7   6              13   \n",
      "35    Uganda   1   1   0   1  NaN   0   3   13  11              24   \n",
      "36    Uganda   1   1   1   1  1.0   1   2    6   7              13   \n",
      "37    Uganda   1   1   1   1  1.0   1   3    8  20              28   \n",
      "38    Uganda   1   1   1   1  1.0   1   3   14  12              26   \n",
      "39    Uganda   1   1   0   1  1.0   1   2   19  20              39   \n",
      "40    Uganda   1   1   1   1  1.0   1   3    7   8              15   \n",
      "41    Uganda   1   1   1   1  1.0   1   3    7  10              17   \n",
      "42    Uganda   1   1   1   1  1.0   0   3   18  18              36   \n",
      "43    Uganda   1   1   0   1  1.0   1   3    7  10              17   \n",
      "44    Uganda   1   1   1   1  NaN   1   3    9   9              18   \n",
      "45    Uganda   1   1   0   1  1.0   1   3    8  11              19   \n",
      "46    Uganda   1   0   0   1  1.0   1   3   15  17              32   \n",
      "47    Uganda   1   1   1   1  1.0   1   3   19  19              38   \n",
      "48    Uganda   1   1   1   1  NaN   0   3   20  20              40   \n",
      "\n",
      "    Adherence score  \n",
      "0                 5  \n",
      "1                 5  \n",
      "2                 4  \n",
      "3                 5  \n",
      "4                 5  \n",
      "5                 5  \n",
      "6                 5  \n",
      "7                 4  \n",
      "8                 5  \n",
      "9                 5  \n",
      "10                5  \n",
      "11                5  \n",
      "12                4  \n",
      "13                4  \n",
      "14                4  \n",
      "15                5  \n",
      "16                5  \n",
      "17                5  \n",
      "18                4  \n",
      "19                4  \n",
      "20                5  \n",
      "21                5  \n",
      "22                4  \n",
      "23                5  \n",
      "24                5  \n",
      "25                4  \n",
      "26                5  \n",
      "27                5  \n",
      "28                3  \n",
      "29                5  \n",
      "30                5  \n",
      "31                5  \n",
      "32                4  \n",
      "33                5  \n",
      "34                4  \n",
      "35                2  \n",
      "36                5  \n",
      "37                5  \n",
      "38                5  \n",
      "39                4  \n",
      "40                5  \n",
      "41                5  \n",
      "42                4  \n",
      "43                4  \n",
      "44                4  \n",
      "45                4  \n",
      "46                3  \n",
      "47                5  \n",
      "48                3  \n"
     ]
    }
   ],
   "source": [
    "import pandas as pd\n",
    "ECDw = pd.read_csv(r\"C:\\Users\\owino\\ECDw.csv\")\n",
    "print(ECDw)"
   ]
  },
  {
   "cell_type": "code",
   "execution_count": 2,
   "id": "dfd7323a-e53f-490f-9254-9680c5a28cbc",
   "metadata": {},
   "outputs": [
    {
     "name": "stdout",
     "output_type": "stream",
     "text": [
      "Requirement already satisfied: statsmodels in c:\\users\\owino\\anaconda3\\lib\\site-packages (0.14.2)\n",
      "Requirement already satisfied: pandas in c:\\users\\owino\\anaconda3\\lib\\site-packages (2.2.2)\n",
      "Requirement already satisfied: numpy in c:\\users\\owino\\anaconda3\\lib\\site-packages (1.26.4)\n",
      "Requirement already satisfied: scipy!=1.9.2,>=1.8 in c:\\users\\owino\\anaconda3\\lib\\site-packages (from statsmodels) (1.13.1)\n",
      "Requirement already satisfied: patsy>=0.5.6 in c:\\users\\owino\\anaconda3\\lib\\site-packages (from statsmodels) (0.5.6)\n",
      "Requirement already satisfied: packaging>=21.3 in c:\\users\\owino\\anaconda3\\lib\\site-packages (from statsmodels) (24.1)\n",
      "Requirement already satisfied: python-dateutil>=2.8.2 in c:\\users\\owino\\anaconda3\\lib\\site-packages (from pandas) (2.9.0.post0)\n",
      "Requirement already satisfied: pytz>=2020.1 in c:\\users\\owino\\anaconda3\\lib\\site-packages (from pandas) (2024.1)\n",
      "Requirement already satisfied: tzdata>=2022.7 in c:\\users\\owino\\anaconda3\\lib\\site-packages (from pandas) (2023.3)\n",
      "Requirement already satisfied: six in c:\\users\\owino\\anaconda3\\lib\\site-packages (from patsy>=0.5.6->statsmodels) (1.16.0)\n"
     ]
    }
   ],
   "source": [
    "!pip install statsmodels pandas numpy\n"
   ]
  },
  {
   "cell_type": "code",
   "execution_count": 4,
   "id": "3ff1894f-75d1-434a-85cf-0cd4c2bf6989",
   "metadata": {},
   "outputs": [],
   "source": [
    "import pandas as pd\n",
    "import numpy as np\n",
    "import statsmodels.api as sm"
   ]
  },
  {
   "cell_type": "code",
   "execution_count": 111,
   "id": "4e53a7c0-262d-4daf-88a4-be8ba5e26194",
   "metadata": {},
   "outputs": [],
   "source": [
    "ECDw[\"A3\"] = ECDw[\"A3\"].astype(\"category\")"
   ]
  },
  {
   "cell_type": "code",
   "execution_count": 113,
   "id": "90c37894-3b9d-447a-bcd6-b4ee6292d801",
   "metadata": {},
   "outputs": [
    {
     "data": {
      "text/plain": [
       "0     0\n",
       "1     0\n",
       "2     0\n",
       "3     0\n",
       "4     0\n",
       "5     0\n",
       "6     0\n",
       "7     0\n",
       "8     0\n",
       "9     0\n",
       "10    0\n",
       "11    0\n",
       "12    0\n",
       "13    0\n",
       "14    0\n",
       "15    0\n",
       "16    0\n",
       "17    0\n",
       "18    0\n",
       "19    0\n",
       "20    0\n",
       "21    0\n",
       "22    0\n",
       "23    0\n",
       "24    0\n",
       "25    0\n",
       "26    0\n",
       "27    0\n",
       "28    0\n",
       "29    0\n",
       "30    0\n",
       "31    1\n",
       "32    1\n",
       "33    1\n",
       "34    1\n",
       "35    1\n",
       "36    1\n",
       "37    1\n",
       "38    1\n",
       "39    1\n",
       "40    1\n",
       "41    1\n",
       "42    1\n",
       "43    1\n",
       "44    1\n",
       "45    1\n",
       "46    1\n",
       "47    1\n",
       "48    1\n",
       "Name: A3, dtype: category\n",
       "Categories (2, int8): [0, 1]"
      ]
     },
     "execution_count": 113,
     "metadata": {},
     "output_type": "execute_result"
    }
   ],
   "source": [
    "ECDw[\"A3\"]"
   ]
  },
  {
   "cell_type": "code",
   "execution_count": 115,
   "id": "e953e573-129e-4e65-9eb6-34d3a2b3310d",
   "metadata": {},
   "outputs": [],
   "source": [
    "#ECDw['A3'] = ECDw['A3'].cat.codes  # Converts Country A=0, Country B=1"
   ]
  },
  {
   "cell_type": "code",
   "execution_count": 117,
   "id": "05b9d644-ddd3-4f93-9b64-548e53287b10",
   "metadata": {},
   "outputs": [
    {
     "data": {
      "text/plain": [
       "A3                 category\n",
       "B1                    int64\n",
       "C1                    int64\n",
       "C2                    int64\n",
       "C3                    int64\n",
       "C4                  float64\n",
       "C5                    int64\n",
       "D1                    int64\n",
       "G3                    int64\n",
       "G4                    int64\n",
       "Total children        int64\n",
       "Adherence score       int64\n",
       "dtype: object"
      ]
     },
     "execution_count": 117,
     "metadata": {},
     "output_type": "execute_result"
    }
   ],
   "source": [
    "ECDw.dtypes"
   ]
  },
  {
   "cell_type": "code",
   "execution_count": 119,
   "id": "33d48a3a-370b-4965-b13e-e8633718eebe",
   "metadata": {},
   "outputs": [
    {
     "name": "stdout",
     "output_type": "stream",
     "text": [
      "   A3  B1  C1  C2  C3   C4  C5  D1   G3  G4  Total children  Adherence score\n",
      "0   0   1   1   1   1  1.0   1   3   17  23              40                5\n",
      "1   0   1   1   1   1  1.0   1   3   15  19              34                5\n",
      "2   0   2   1   1   1  NaN   1   3  200  19             219                4\n",
      "3   0   1   1   1   1  1.0   1   3   10  11              21                5\n",
      "4   0   1   1   1   1  1.0   1   2   24  23              47                5\n",
      "5   0   1   1   1   1  1.0   1   3   13  10              23                5\n",
      "6   0   1   1   1   1  1.0   1   3    2   3               5                5\n",
      "7   0   1   1   1   1  1.0   0   3   22  18              40                4\n",
      "8   0   1   1   1   1  1.0   1   3   13  10              23                5\n",
      "9   0   1   1   1   1  1.0   1   3   13  10              23                5\n",
      "10  0   1   1   1   1  1.0   1   3    5  10              15                5\n",
      "11  0   1   1   1   1  1.0   1   3    3  13              16                5\n",
      "12  0   1   1   1   1  1.0   0   3   11  15              26                4\n",
      "13  0   1   1   1   1  0.0   1   3    3   2               5                4\n",
      "14  0   1   1   1   1  0.0   1   3    7   7              14                4\n",
      "15  0   1   1   1   1  1.0   1   3   13  10              23                5\n",
      "16  0   1   1   1   1  1.0   1   3    6   6              12                5\n",
      "17  0   1   1   1   1  1.0   1   3   13  17              30                5\n",
      "18  0   1   1   1   1  1.0   0   3    6   9              15                4\n",
      "19  0   1   1   1   1  1.0   0   3    7   8              15                4\n",
      "20  0   1   1   1   1  1.0   1   3   13   9              22                5\n",
      "21  0   1   1   1   1  1.0   1   3   17  15              32                5\n",
      "22  0   1   1   1   1  NaN   1   3    5  14              19                4\n",
      "23  0   1   1   1   1  1.0   1   3   16  20              36                5\n",
      "24  0   1   1   1   1  1.0   1   3   10  20              30                5\n",
      "25  0   1   1   1   1  NaN   1   3    5   4               9                4\n",
      "26  0   1   1   1   1  1.0   1   3   10   3              13                5\n",
      "27  0   1   1   1   1  1.0   1   3    4  11              15                5\n",
      "28  0   1   0   1   1  NaN   1   3    5  12              17                3\n",
      "29  0   1   1   1   1  1.0   1   2   12  18              30                5\n",
      "30  0   1   1   1   1  1.0   1   3    0   0               0                5\n",
      "31  1   1   1   1   1  1.0   1   3    8   8              16                5\n",
      "32  1   1   1   1   1  NaN   1   3   15  17              32                4\n",
      "33  1   2   1   1   1  1.0   1   3   11  21              32                5\n",
      "34  1   1   1   0   1  1.0   1   3    7   6              13                4\n",
      "35  1   1   1   0   1  NaN   0   3   13  11              24                2\n",
      "36  1   1   1   1   1  1.0   1   2    6   7              13                5\n",
      "37  1   1   1   1   1  1.0   1   3    8  20              28                5\n",
      "38  1   1   1   1   1  1.0   1   3   14  12              26                5\n",
      "39  1   1   1   0   1  1.0   1   2   19  20              39                4\n",
      "40  1   1   1   1   1  1.0   1   3    7   8              15                5\n",
      "41  1   1   1   1   1  1.0   1   3    7  10              17                5\n",
      "42  1   1   1   1   1  1.0   0   3   18  18              36                4\n",
      "43  1   1   1   0   1  1.0   1   3    7  10              17                4\n",
      "44  1   1   1   1   1  NaN   1   3    9   9              18                4\n",
      "45  1   1   1   0   1  1.0   1   3    8  11              19                4\n",
      "46  1   1   0   0   1  1.0   1   3   15  17              32                3\n",
      "47  1   1   1   1   1  1.0   1   3   19  19              38                5\n",
      "48  1   1   1   1   1  NaN   0   3   20  20              40                3\n"
     ]
    }
   ],
   "source": [
    "print(ECDw)"
   ]
  },
  {
   "cell_type": "markdown",
   "id": "42aba094-5182-4b06-9495-e69f82865636",
   "metadata": {},
   "source": [
    "#### Poisson regression analysis for the girls"
   ]
  },
  {
   "cell_type": "code",
   "execution_count": 122,
   "id": "34ed9879-7f48-448a-af08-8e1c61d547a2",
   "metadata": {},
   "outputs": [],
   "source": [
    "#Define depedent and indepent variables\n",
    "X = ECDw[['Adherence score','A3']]  # Independent variables\n",
    "X = sm.add_constant(X)  # Add intercept\n",
    "y = ECDw['G3']  # Dependent variable (count data)"
   ]
  },
  {
   "cell_type": "code",
   "execution_count": 124,
   "id": "a819aacd-7228-4f5e-bf3d-38b4cc76551e",
   "metadata": {},
   "outputs": [
    {
     "name": "stdout",
     "output_type": "stream",
     "text": [
      "Optimization terminated successfully.\n",
      "         Current function value: 10.362156\n",
      "         Iterations 5\n"
     ]
    }
   ],
   "source": [
    "#Poisson regression models for the girls\n",
    "poisson_mod = sm.Poisson(y, X)\n",
    "poiss_results = poisson_mod.fit()\n"
   ]
  },
  {
   "cell_type": "code",
   "execution_count": 128,
   "id": "0a031e3f-8101-4de5-bfa6-43042700bcfc",
   "metadata": {},
   "outputs": [
    {
     "data": {
      "text/plain": [
       "0     0\n",
       "1     0\n",
       "2     0\n",
       "3     0\n",
       "4     0\n",
       "5     0\n",
       "6     0\n",
       "7     0\n",
       "8     0\n",
       "9     0\n",
       "10    0\n",
       "11    0\n",
       "12    0\n",
       "13    0\n",
       "14    0\n",
       "15    0\n",
       "16    0\n",
       "17    0\n",
       "18    0\n",
       "19    0\n",
       "20    0\n",
       "21    0\n",
       "22    0\n",
       "23    0\n",
       "24    0\n",
       "25    0\n",
       "26    0\n",
       "27    0\n",
       "28    0\n",
       "29    0\n",
       "30    0\n",
       "31    1\n",
       "32    1\n",
       "33    1\n",
       "34    1\n",
       "35    1\n",
       "36    1\n",
       "37    1\n",
       "38    1\n",
       "39    1\n",
       "40    1\n",
       "41    1\n",
       "42    1\n",
       "43    1\n",
       "44    1\n",
       "45    1\n",
       "46    1\n",
       "47    1\n",
       "48    1\n",
       "Name: A3, dtype: category\n",
       "Categories (2, int8): [0, 1]"
      ]
     },
     "execution_count": 128,
     "metadata": {},
     "output_type": "execute_result"
    }
   ],
   "source": [
    "ECDw[\"A3\"]"
   ]
  },
  {
   "cell_type": "code",
   "execution_count": 130,
   "id": "e39d086c-c42b-4ee6-8e76-584cfcfdfa19",
   "metadata": {},
   "outputs": [
    {
     "name": "stdout",
     "output_type": "stream",
     "text": [
      "                          Poisson Regression Results                          \n",
      "==============================================================================\n",
      "Dep. Variable:                     G3   No. Observations:                   49\n",
      "Model:                        Poisson   Df Residuals:                       46\n",
      "Method:                           MLE   Df Model:                            2\n",
      "Date:                Mon, 17 Mar 2025   Pseudo R-squ.:                 0.05961\n",
      "Time:                        19:53:27   Log-Likelihood:                -507.75\n",
      "converged:                       True   LL-Null:                       -539.93\n",
      "Covariance Type:            nonrobust   LLR p-value:                 1.054e-14\n",
      "===================================================================================\n",
      "                      coef    std err          z      P>|z|      [0.025      0.975]\n",
      "-----------------------------------------------------------------------------------\n",
      "const               4.4757      0.235     19.021      0.000       4.014       4.937\n",
      "Adherence score    -0.3696      0.051     -7.236      0.000      -0.470      -0.269\n",
      "A3                 -0.5087      0.088     -5.791      0.000      -0.681      -0.337\n",
      "===================================================================================\n"
     ]
    }
   ],
   "source": [
    "print(poiss_results.summary())"
   ]
  },
  {
   "cell_type": "markdown",
   "id": "2d34cfd8-94cc-4b04-a925-5caad58449ff",
   "metadata": {},
   "source": [
    "#### Regression analysis for the Boys"
   ]
  },
  {
   "cell_type": "code",
   "execution_count": 133,
   "id": "f119d42a-6f5d-4876-8092-ce40c06cca6b",
   "metadata": {},
   "outputs": [],
   "source": [
    "#Define depedent and indepent variables\n",
    "Z = ECDw[['Adherence score','A3']]  # Independent variables\n",
    "Z = sm.add_constant(Z)  # Add intercept\n",
    "zy = ECDw['G4']  # Dependent variable (count data)"
   ]
  },
  {
   "cell_type": "code",
   "execution_count": 135,
   "id": "3f09f81d-7d40-4112-965f-9700512bff9f",
   "metadata": {},
   "outputs": [
    {
     "name": "stdout",
     "output_type": "stream",
     "text": [
      "Optimization terminated successfully.\n",
      "         Current function value: 3.635065\n",
      "         Iterations 4\n"
     ]
    }
   ],
   "source": [
    "#Poisson regression models for the girls\n",
    "poisson_model1 = sm.Poisson(zy, Z)\n",
    "poiss_result = poisson_model1.fit()\n"
   ]
  },
  {
   "cell_type": "code",
   "execution_count": 137,
   "id": "62754242-7f5b-40c7-8468-f0ae1b131ea9",
   "metadata": {},
   "outputs": [
    {
     "name": "stdout",
     "output_type": "stream",
     "text": [
      "                          Poisson Regression Results                          \n",
      "==============================================================================\n",
      "Dep. Variable:                     G4   No. Observations:                   49\n",
      "Model:                        Poisson   Df Residuals:                       46\n",
      "Method:                           MLE   Df Model:                            2\n",
      "Date:                Mon, 17 Mar 2025   Pseudo R-squ.:                0.006925\n",
      "Time:                        19:57:27   Log-Likelihood:                -178.12\n",
      "converged:                       True   LL-Null:                       -179.36\n",
      "Covariance Type:            nonrobust   LLR p-value:                    0.2888\n",
      "===================================================================================\n",
      "                      coef    std err          z      P>|z|      [0.025      0.975]\n",
      "-----------------------------------------------------------------------------------\n",
      "const               2.4326      0.281      8.666      0.000       1.882       2.983\n",
      "Adherence score     0.0095      0.059      0.160      0.873      -0.107       0.126\n",
      "A3                  0.1340      0.086      1.555      0.120      -0.035       0.303\n",
      "===================================================================================\n"
     ]
    }
   ],
   "source": [
    "print(poiss_result.summary())"
   ]
  },
  {
   "cell_type": "markdown",
   "id": "a17f5efc-2e27-4866-a795-077eefe467fa",
   "metadata": {},
   "source": [
    "#### Poisson Regression for all the children"
   ]
  },
  {
   "cell_type": "code",
   "execution_count": null,
   "id": "8afa4322-dec5-4c9b-bebd-5a2a4b4f7c7c",
   "metadata": {},
   "outputs": [],
   "source": []
  },
  {
   "cell_type": "code",
   "execution_count": 141,
   "id": "32439904-a3d3-4f92-b9dd-ffd4d9eda8e3",
   "metadata": {},
   "outputs": [],
   "source": [
    "#Define depedent and indepent variables\n",
    "F = ECDw[['Adherence score','A3']]  # Independent variables\n",
    "F = sm.add_constant(F)  # Add intercept\n",
    "g = ECDw['Total children']  # Dependent variable (count data)"
   ]
  },
  {
   "cell_type": "code",
   "execution_count": 143,
   "id": "e490b563-1a3b-43bd-8f5a-82f273e4fd97",
   "metadata": {},
   "outputs": [
    {
     "name": "stdout",
     "output_type": "stream",
     "text": [
      "Optimization terminated successfully.\n",
      "         Current function value: 10.506043\n",
      "         Iterations 5\n"
     ]
    }
   ],
   "source": [
    "#Poisson regression models for the girls\n",
    "poisson_model2 = sm.Poisson(g, F)\n",
    "poisson_results2 = poisson_model2.fit()"
   ]
  },
  {
   "cell_type": "code",
   "execution_count": 145,
   "id": "2cd62c52-68b0-4c48-acc9-75a476868e0a",
   "metadata": {},
   "outputs": [
    {
     "name": "stdout",
     "output_type": "stream",
     "text": [
      "                          Poisson Regression Results                          \n",
      "==============================================================================\n",
      "Dep. Variable:         Total children   No. Observations:                   49\n",
      "Model:                        Poisson   Df Residuals:                       46\n",
      "Method:                           MLE   Df Model:                            2\n",
      "Date:                Mon, 17 Mar 2025   Pseudo R-squ.:                 0.02656\n",
      "Time:                        19:57:35   Log-Likelihood:                -514.80\n",
      "converged:                       True   LL-Null:                       -528.84\n",
      "Covariance Type:            nonrobust   LLR p-value:                 7.945e-07\n",
      "===================================================================================\n",
      "                      coef    std err          z      P>|z|      [0.025      0.975]\n",
      "-----------------------------------------------------------------------------------\n",
      "const               4.2394      0.180     23.589      0.000       3.887       4.592\n",
      "Adherence score    -0.1963      0.039     -5.099      0.000      -0.272      -0.121\n",
      "A3                 -0.1954      0.061     -3.193      0.001      -0.315      -0.075\n",
      "===================================================================================\n"
     ]
    }
   ],
   "source": [
    "print(poisson_results2.summary())"
   ]
  },
  {
   "cell_type": "code",
   "execution_count": 148,
   "id": "e85273f0-97c9-438c-a7bb-ed7dada35fd6",
   "metadata": {},
   "outputs": [
    {
     "data": {
      "text/plain": [
       "0     0\n",
       "1     0\n",
       "2     0\n",
       "3     0\n",
       "4     0\n",
       "5     0\n",
       "6     0\n",
       "7     0\n",
       "8     0\n",
       "9     0\n",
       "10    0\n",
       "11    0\n",
       "12    0\n",
       "13    0\n",
       "14    0\n",
       "15    0\n",
       "16    0\n",
       "17    0\n",
       "18    0\n",
       "19    0\n",
       "20    0\n",
       "21    0\n",
       "22    0\n",
       "23    0\n",
       "24    0\n",
       "25    0\n",
       "26    0\n",
       "27    0\n",
       "28    0\n",
       "29    0\n",
       "30    0\n",
       "31    1\n",
       "32    1\n",
       "33    1\n",
       "34    1\n",
       "35    1\n",
       "36    1\n",
       "37    1\n",
       "38    1\n",
       "39    1\n",
       "40    1\n",
       "41    1\n",
       "42    1\n",
       "43    1\n",
       "44    1\n",
       "45    1\n",
       "46    1\n",
       "47    1\n",
       "48    1\n",
       "Name: A3, dtype: category\n",
       "Categories (2, int8): [0, 1]"
      ]
     },
     "execution_count": 148,
     "metadata": {},
     "output_type": "execute_result"
    }
   ],
   "source": [
    "ECDw[\"A3\"]"
   ]
  },
  {
   "cell_type": "code",
   "execution_count": 158,
   "id": "4946bc27-f8a1-4185-9c89-85f95e12346b",
   "metadata": {},
   "outputs": [],
   "source": [
    "import pandas as pd\n",
    "import statsmodels.api as sm\n",
    "\n",
    "# Convert A3 to categorical\n",
    "ECDw['A3'] = ECDw['A3'].astype('category')\n"
   ]
  },
  {
   "cell_type": "code",
   "execution_count": 160,
   "id": "bb4c6127-be42-474f-af1c-44ef85857cfb",
   "metadata": {},
   "outputs": [
    {
     "data": {
      "text/plain": [
       "0     0\n",
       "1     0\n",
       "2     0\n",
       "3     0\n",
       "4     0\n",
       "5     0\n",
       "6     0\n",
       "7     0\n",
       "8     0\n",
       "9     0\n",
       "10    0\n",
       "11    0\n",
       "12    0\n",
       "13    0\n",
       "14    0\n",
       "15    0\n",
       "16    0\n",
       "17    0\n",
       "18    0\n",
       "19    0\n",
       "20    0\n",
       "21    0\n",
       "22    0\n",
       "23    0\n",
       "24    0\n",
       "25    0\n",
       "26    0\n",
       "27    0\n",
       "28    0\n",
       "29    0\n",
       "30    0\n",
       "31    1\n",
       "32    1\n",
       "33    1\n",
       "34    1\n",
       "35    1\n",
       "36    1\n",
       "37    1\n",
       "38    1\n",
       "39    1\n",
       "40    1\n",
       "41    1\n",
       "42    1\n",
       "43    1\n",
       "44    1\n",
       "45    1\n",
       "46    1\n",
       "47    1\n",
       "48    1\n",
       "Name: A3, dtype: category\n",
       "Categories (2, int8): [0, 1]"
      ]
     },
     "execution_count": 160,
     "metadata": {},
     "output_type": "execute_result"
    }
   ],
   "source": [
    "ECDw['A3']"
   ]
  },
  {
   "cell_type": "code",
   "execution_count": 170,
   "id": "26a8f0bd-d8e6-429c-8483-dba9cc4def73",
   "metadata": {},
   "outputs": [
    {
     "name": "stdout",
     "output_type": "stream",
     "text": [
      "Index(['A3', 'B1', 'C1', 'C2', 'C3', 'C4', 'C5', 'D1', 'G3', 'G4',\n",
      "       'Total children', 'Adherence_score'],\n",
      "      dtype='object')\n"
     ]
    }
   ],
   "source": [
    "# Rename column\n",
    "ECDw = ECDw.rename(columns={\"Adherence score\": \"Adherence_score\"})\n",
    "print(ECDw.columns)"
   ]
  },
  {
   "cell_type": "markdown",
   "id": "fd059ce1-ba2b-44a9-9cd9-0f1b6069b44a",
   "metadata": {},
   "source": [
    "#### Poisson regression analysis for the Girls "
   ]
  },
  {
   "cell_type": "code",
   "execution_count": 176,
   "id": "e8d90b7e-d3b1-4a5f-a1cd-e44fbf30e1bc",
   "metadata": {},
   "outputs": [
    {
     "name": "stdout",
     "output_type": "stream",
     "text": [
      "Optimization terminated successfully.\n",
      "         Current function value: 10.362156\n",
      "         Iterations 5\n",
      "                          Poisson Regression Results                          \n",
      "==============================================================================\n",
      "Dep. Variable:                     G3   No. Observations:                   49\n",
      "Model:                        Poisson   Df Residuals:                       46\n",
      "Method:                           MLE   Df Model:                            2\n",
      "Date:                Mon, 17 Mar 2025   Pseudo R-squ.:                 0.05961\n",
      "Time:                        21:34:02   Log-Likelihood:                -507.75\n",
      "converged:                       True   LL-Null:                       -539.93\n",
      "Covariance Type:            nonrobust   LLR p-value:                 1.054e-14\n",
      "===================================================================================\n",
      "                      coef    std err          z      P>|z|      [0.025      0.975]\n",
      "-----------------------------------------------------------------------------------\n",
      "Intercept           4.4757      0.235     19.021      0.000       4.014       4.937\n",
      "C(A3)[T.1]         -0.5087      0.088     -5.791      0.000      -0.681      -0.337\n",
      "Adherence_score    -0.3696      0.051     -7.236      0.000      -0.470      -0.269\n",
      "===================================================================================\n"
     ]
    }
   ],
   "source": [
    "import statsmodels.formula.api as smf\n",
    "\n",
    "# Fit Poisson model with A3 as categorical\n",
    "poisson_model = smf.poisson(\"G3 ~ C(A3) + Adherence_score\", data=ECDw).fit()\n",
    "\n",
    "# Print summary\n",
    "print(poisson_model.summary())\n"
   ]
  },
  {
   "cell_type": "markdown",
   "id": "245b8d24-1399-4926-b0f4-ca3a33ef2865",
   "metadata": {},
   "source": [
    "#### Poisson Distribution for boys"
   ]
  },
  {
   "cell_type": "code",
   "execution_count": 183,
   "id": "8197a6ff-eee3-4093-8935-3bc40329e6be",
   "metadata": {},
   "outputs": [
    {
     "name": "stdout",
     "output_type": "stream",
     "text": [
      "Optimization terminated successfully.\n",
      "         Current function value: 3.635065\n",
      "         Iterations 4\n",
      "                          Poisson Regression Results                          \n",
      "==============================================================================\n",
      "Dep. Variable:                     G4   No. Observations:                   49\n",
      "Model:                        Poisson   Df Residuals:                       46\n",
      "Method:                           MLE   Df Model:                            2\n",
      "Date:                Mon, 17 Mar 2025   Pseudo R-squ.:                0.006925\n",
      "Time:                        22:25:59   Log-Likelihood:                -178.12\n",
      "converged:                       True   LL-Null:                       -179.36\n",
      "Covariance Type:            nonrobust   LLR p-value:                    0.2888\n",
      "===================================================================================\n",
      "                      coef    std err          z      P>|z|      [0.025      0.975]\n",
      "-----------------------------------------------------------------------------------\n",
      "Intercept           2.4326      0.281      8.666      0.000       1.882       2.983\n",
      "C(A3)[T.1]          0.1340      0.086      1.555      0.120      -0.035       0.303\n",
      "Adherence_score     0.0095      0.059      0.160      0.873      -0.107       0.126\n",
      "===================================================================================\n"
     ]
    }
   ],
   "source": [
    "import statsmodels.formula.api as smf\n",
    "\n",
    "# Fit Poisson model with A3 as categorical\n",
    "poisson1_model = smf.poisson(\"G4 ~ C(A3) + Adherence_score\", data=ECDw).fit()\n",
    "\n",
    "# Print summary\n",
    "print(poisson1_model.summary())"
   ]
  },
  {
   "cell_type": "code",
   "execution_count": 185,
   "id": "d8242502-3b94-40d8-a633-66a090e8317b",
   "metadata": {},
   "outputs": [
    {
     "name": "stdout",
     "output_type": "stream",
     "text": [
      "Index(['A3', 'B1', 'C1', 'C2', 'C3', 'C4', 'C5', 'D1', 'G3', 'G4',\n",
      "       'Total_children', 'Adherence_score'],\n",
      "      dtype='object')\n"
     ]
    }
   ],
   "source": [
    "#### Rename the variable from \"Total children\" to \"Total_children\"\n",
    "# Rename column\n",
    "ECDw = ECDw.rename(columns={\"Total children\": \"Total_children\"})\n",
    "print(ECDw.columns)"
   ]
  },
  {
   "cell_type": "code",
   "execution_count": 187,
   "id": "78720193-b785-45ba-bcb8-43e3fd42f398",
   "metadata": {},
   "outputs": [
    {
     "name": "stdout",
     "output_type": "stream",
     "text": [
      "Optimization terminated successfully.\n",
      "         Current function value: 10.506043\n",
      "         Iterations 5\n",
      "                          Poisson Regression Results                          \n",
      "==============================================================================\n",
      "Dep. Variable:         Total_children   No. Observations:                   49\n",
      "Model:                        Poisson   Df Residuals:                       46\n",
      "Method:                           MLE   Df Model:                            2\n",
      "Date:                Mon, 17 Mar 2025   Pseudo R-squ.:                 0.02656\n",
      "Time:                        22:36:59   Log-Likelihood:                -514.80\n",
      "converged:                       True   LL-Null:                       -528.84\n",
      "Covariance Type:            nonrobust   LLR p-value:                 7.945e-07\n",
      "===================================================================================\n",
      "                      coef    std err          z      P>|z|      [0.025      0.975]\n",
      "-----------------------------------------------------------------------------------\n",
      "Intercept           4.2394      0.180     23.589      0.000       3.887       4.592\n",
      "C(A3)[T.1]         -0.1954      0.061     -3.193      0.001      -0.315      -0.075\n",
      "Adherence_score    -0.1963      0.039     -5.099      0.000      -0.272      -0.121\n",
      "===================================================================================\n"
     ]
    }
   ],
   "source": [
    "import statsmodels.formula.api as smf\n",
    "\n",
    "# Fit Poisson model with A3 as categorical\n",
    "poisson1_mode2 = smf.poisson(\"Total_children ~ C(A3) + Adherence_score\", data=ECDw).fit()\n",
    "\n",
    "# Print summary\n",
    "print(poisson1_mode2.summary())"
   ]
  },
  {
   "cell_type": "code",
   "execution_count": null,
   "id": "09a7cfe2-5690-43f7-b9a8-4a9427d1afd1",
   "metadata": {},
   "outputs": [],
   "source": []
  }
 ],
 "metadata": {
  "kernelspec": {
   "display_name": "Python [conda env:base] *",
   "language": "python",
   "name": "conda-base-py"
  },
  "language_info": {
   "codemirror_mode": {
    "name": "ipython",
    "version": 3
   },
   "file_extension": ".py",
   "mimetype": "text/x-python",
   "name": "python",
   "nbconvert_exporter": "python",
   "pygments_lexer": "ipython3",
   "version": "3.12.7"
  }
 },
 "nbformat": 4,
 "nbformat_minor": 5
}
